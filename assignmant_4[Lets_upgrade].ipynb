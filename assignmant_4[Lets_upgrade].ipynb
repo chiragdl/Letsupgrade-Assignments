{
  "nbformat": 4,
  "nbformat_minor": 0,
  "metadata": {
    "colab": {
      "name": "assignmant 4[Lets upgrade].ipynb",
      "provenance": [],
      "collapsed_sections": []
    },
    "kernelspec": {
      "name": "python3",
      "display_name": "Python 3"
    },
    "language_info": {
      "name": "python"
    }
  },
  "cells": [
    {
      "cell_type": "markdown",
      "metadata": {
        "id": "l2770C_D3sgA"
      },
      "source": [
        "You all are pilots, you have to land a plane, the altitude required for landing a plane is 1000ft, if it is less than that tell pilot to land the plane, or it is more than that but less than 5000ft ask the pilot to “come down to 1000ft”, else if it is more than 5000ft ask the pilot to “go around and try later.”\n",
        "\n",
        "Example : Input - 1000 Output - Safe to land.\n",
        "\n",
        "Example : Input - 4500 Output - Bring down to 1000.\n",
        "\n",
        "Example : Input - 6500 Output - Turn Around\n"
      ]
    },
    {
      "cell_type": "code",
      "metadata": {
        "colab": {
          "base_uri": "https://localhost:8080/"
        },
        "id": "ufdJOCyU34GQ",
        "outputId": "3a909866-3ff0-40c9-f323-6480d8273c7a"
      },
      "source": [
        "alt = int(input(\" Enter Your Current Altitude : \"))\n",
        "\n",
        "if alt == 1000:\n",
        "  print(\" go head and try to land \")\n",
        "elif alt <  1000:\n",
        "  print(\" come down to 1000\")\n",
        "elif alt > 1000 :\n",
        "  print(\"go around and try later \")\n",
        "else:\n",
        "  print(\"try again\")"
      ],
      "execution_count": 6,
      "outputs": [
        {
          "output_type": "stream",
          "text": [
            " Enter Your Current Altitude : 1000\n",
            " go head and try to land \n"
          ],
          "name": "stdout"
        }
      ]
    },
    {
      "cell_type": "code",
      "metadata": {
        "id": "NQhvoz1U_WCv"
      },
      "source": [
        ""
      ],
      "execution_count": 5,
      "outputs": []
    }
  ]
}