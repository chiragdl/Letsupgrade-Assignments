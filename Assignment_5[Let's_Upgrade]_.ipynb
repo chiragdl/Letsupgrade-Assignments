{
  "nbformat": 4,
  "nbformat_minor": 0,
  "metadata": {
    "colab": {
      "name": "Assignment 5[Let's Upgrade] .ipynb",
      "provenance": [],
      "collapsed_sections": []
    },
    "kernelspec": {
      "name": "python3",
      "display_name": "Python 3"
    },
    "language_info": {
      "name": "python"
    }
  },
  "cells": [
    {
      "cell_type": "markdown",
      "metadata": {
        "id": "5c2kPuFzhriv"
      },
      "source": [
        "Assignment 5 \n",
        "\n",
        "Q.Build a function for finding if a number is prime or not."
      ]
    },
    {
      "cell_type": "code",
      "metadata": {
        "colab": {
          "base_uri": "https://localhost:8080/",
          "height": 35
        },
        "id": "wawJInSw4d7A",
        "outputId": "978c0b06-259f-44b4-9a4f-598893ba6eec"
      },
      "source": [
        "def prime(n):\n",
        "    if n>1:\n",
        "        \n",
        "        for i in range(2,int(n/2)+1):\n",
        "            if n%i==0:\n",
        "                return(str(n)+\" is not a prime number\")\n",
        "                break\n",
        "        return(str(n)+\"  is a Prime Number\")\n",
        "    else:\n",
        "        print(str(n)+\" is a Prime Number\")\n",
        " \n",
        " \n",
        "\n",
        "prime( 3456789)"
      ],
      "execution_count": null,
      "outputs": [
        {
          "output_type": "execute_result",
          "data": {
            "application/vnd.google.colaboratory.intrinsic+json": {
              "type": "string"
            },
            "text/plain": [
              "'3456789 is not a prime number'"
            ]
          },
          "metadata": {
            "tags": []
          },
          "execution_count": 32
        }
      ]
    },
    {
      "cell_type": "code",
      "metadata": {
        "colab": {
          "base_uri": "https://localhost:8080/",
          "height": 35
        },
        "id": "zCin6eNw6eM0",
        "outputId": "8c0bf380-a99c-48b2-ffd7-0dd9f07f5f63"
      },
      "source": [
        "prime(1234567890)"
      ],
      "execution_count": null,
      "outputs": [
        {
          "output_type": "execute_result",
          "data": {
            "application/vnd.google.colaboratory.intrinsic+json": {
              "type": "string"
            },
            "text/plain": [
              "'1234567890 is not a prime number'"
            ]
          },
          "metadata": {
            "tags": []
          },
          "execution_count": 31
        }
      ]
    },
    {
      "cell_type": "code",
      "metadata": {
        "colab": {
          "base_uri": "https://localhost:8080/",
          "height": 35
        },
        "id": "RuNo09cF6gyG",
        "outputId": "52134575-8ae1-45ab-fb79-2057e6e80e66"
      },
      "source": [
        "prime(86433672993653)"
      ],
      "execution_count": null,
      "outputs": [
        {
          "output_type": "execute_result",
          "data": {
            "application/vnd.google.colaboratory.intrinsic+json": {
              "type": "string"
            },
            "text/plain": [
              "'86433672993653 is not a prime number'"
            ]
          },
          "metadata": {
            "tags": []
          },
          "execution_count": 34
        }
      ]
    }
  ]
}